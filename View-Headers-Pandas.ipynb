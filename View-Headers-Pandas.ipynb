{
 "cells": [
  {
   "cell_type": "markdown",
   "metadata": {},
   "source": [
    "# View-Headers-And-Edit-CSV\n",
    "## If a file is too large to be opened by Excel or Notepad, this script will read the csv file and allow a user to output a clean csv"
   ]
  },
  {
   "cell_type": "code",
   "execution_count": null,
   "metadata": {},
   "outputs": [],
   "source": [
    "import pandas as pd\n",
    "print (pd.__version__)"
   ]
  },
  {
   "cell_type": "code",
   "execution_count": null,
   "metadata": {},
   "outputs": [],
   "source": [
    "response = input(\"Please Enter Location of Input CSV (\"\"Example: C:\\Test\\TestCSV.csv)\"\": \")"
   ]
  },
  {
   "cell_type": "markdown",
   "metadata": {},
   "source": [
    "The code below will read the csv, show you any errors and skip over those lines. The data frame object is then passed below. "
   ]
  },
  {
   "cell_type": "code",
   "execution_count": null,
   "metadata": {},
   "outputs": [],
   "source": [
    "# If you need to see what pandas read is all about here is the call for the help\n",
    "#df = pd.read_csv?\n",
    "\n",
    "df = pd.read_csv(response,error_bad_lines=False, index_col=False, encoding='iso-8859-1',warn_bad_lines=True)\n",
    "datakeys = df.keys()\n",
    "datakeys\n",
    "df"
   ]
  },
  {
   "cell_type": "markdown",
   "metadata": {},
   "source": [
    "Put in the location for the new csv"
   ]
  },
  {
   "cell_type": "code",
   "execution_count": null,
   "metadata": {},
   "outputs": [],
   "source": [
    "newcsv = input(\"Please Enter Location of output CSV (\"\"Example: C:\\Test\\TestCSV.csv)\"\": \")"
   ]
  },
  {
   "cell_type": "markdown",
   "metadata": {},
   "source": [
    "The section below will allow you to put in values that you want replaced in the output csvs. "
   ]
  },
  {
   "cell_type": "code",
   "execution_count": null,
   "metadata": {},
   "outputs": [],
   "source": [
    "newdf = df.replace(to_replace =[\"None\", \"none\", \"NONE\"],  \n",
    "                            value =\"\") \n",
    "export_csv = newdf.to_csv((newcsv), index = None, header=True)"
   ]
  }
 ],
 "metadata": {
  "kernelspec": {
   "display_name": "Python 3",
   "language": "python",
   "name": "python3"
  },
  "language_info": {
   "codemirror_mode": {
    "name": "ipython",
    "version": 3
   },
   "file_extension": ".py",
   "mimetype": "text/x-python",
   "name": "python",
   "nbconvert_exporter": "python",
   "pygments_lexer": "ipython3",
   "version": "3.6.8"
  }
 },
 "nbformat": 4,
 "nbformat_minor": 4
}
