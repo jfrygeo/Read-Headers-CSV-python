{
 "cells": [
  {
   "cell_type": "markdown",
   "metadata": {},
   "source": [
    "# Read-Headers of a CSV File\n",
    "## If a file is too large to be opened by Excel or Notepad, this script will read the csv file and allow a user to output a sample csv"
   ]
  },
  {
   "cell_type": "code",
   "execution_count": 1,
   "metadata": {},
   "outputs": [],
   "source": [
    "import csv,os"
   ]
  },
  {
   "cell_type": "code",
   "execution_count": 2,
   "metadata": {},
   "outputs": [
    {
     "name": "stdin",
     "output_type": "stream",
     "text": [
      "Please Enter Location of Input CSV (Example: C:\\Test\\TestCSV.csv):  C:\\Data\\USCG\\NAIS\\WorkOrder8196389_2019-03.csv\n"
     ]
    }
   ],
   "source": [
    "#Input the filepath to your csv file: i.e. \"C:\\\\MyFolder\\\\MyCSV.csv\"\n",
    "#filename = \"C:\\\\MyFolder\\\\MyCSV.csv\"\n",
    "#filename = os.path.join(os.path.dirname(__file__)+\"\\SampleData\\TestCSV.csv\")\n",
    "response = input(\"Please Enter Location of Input CSV (\"\"Example: C:\\Test\\TestCSV.csv)\"\": \")"
   ]
  },
  {
   "cell_type": "code",
   "execution_count": 3,
   "metadata": {},
   "outputs": [
    {
     "name": "stdout",
     "output_type": "stream",
     "text": [
      "['MSG_TYPE', 'MMSI', 'NAME', 'IMO_NUMBER', 'CALL_SIGN', 'LAT_AVG', 'LON_AVG', 'PERIOD', 'SPEED_KNOTS', 'COG_DEG', 'HEADING_DEG', 'NAV_STATUS', 'NAV_SENSOR', 'SHIP_AND_CARGO_TYPE', 'DRAUGHT', 'DIM_BOW', 'DIM_STERN', 'DIM_PORT', 'DIM_STARBOARD', 'MMSI_COUNTRY_CD', 'RECEIVER']\n",
      "9273629 Total lines and headers\n"
     ]
    }
   ],
   "source": [
    "#Depending on your data source, you may need to change the encoding(i.e. ('utf-8','utf-16')\n",
    "infile = open(response, 'r', encoding=(\"iso-8859-15\"))\n",
    "#infile = open(response, 'r')\n",
    "\n",
    "# Read the headers of the csv file\n",
    "def file_headers(infile):\n",
    "    global fieldnames\n",
    "    reader = csv.DictReader(infile)\n",
    "    fieldnames = reader.fieldnames\n",
    "    print (fieldnames)\n",
    "\n",
    "file_headers(infile)\n",
    "\n",
    "firstdata = csv.DictReader(infile).fieldnames\n",
    "\n",
    "#Read the length of the file\n",
    "def file_length(infile):\n",
    "    for i, length in enumerate(infile):\n",
    "        pass\n",
    "    print (str(i + 3) + \" Total lines and headers\")\n",
    "file_length(infile)\n",
    "\n",
    "\n",
    "#os.system(\"Pause\")\n",
    "#exit()"
   ]
  },
  {
   "cell_type": "code",
   "execution_count": 4,
   "metadata": {},
   "outputs": [
    {
     "name": "stdin",
     "output_type": "stream",
     "text": [
      "Would you like a sample output CSV (Y/N)?:  Y\n"
     ]
    }
   ],
   "source": [
    "yesno = input(\"Would you like a sample output CSV (Y/N)?: \")"
   ]
  },
  {
   "cell_type": "code",
   "execution_count": 10,
   "metadata": {},
   "outputs": [
    {
     "name": "stdin",
     "output_type": "stream",
     "text": [
      "Please Enter an Output Location and filename for Sample CSV:  C:\\Data\\USCG\\NAIS\\test50lines.csv\n"
     ]
    },
    {
     "data": {
      "text/plain": [
       "0"
      ]
     },
     "execution_count": 10,
     "metadata": {},
     "output_type": "execute_result"
    }
   ],
   "source": [
    "\n",
    "while True:\n",
    "    yesChoice = set(['yes', 'y', 'Y', 'YES'])\n",
    "    noChoice = set(['no', 'n', 'N', 'NO'])\n",
    "    if yesno in yesChoice:\n",
    "        # create a csv with sample data of the headers and row\n",
    "        newcsv = input(\"Please Enter an Output Location and filename for Sample CSV: \")\n",
    "        with open (newcsv, 'w') as file:\n",
    "            writer = csv.writer(file,lineterminator=\"\\n\")\n",
    "            writer.writerow(fieldnames)\n",
    "            number = 50 \n",
    "            for _ in range (number):\n",
    "                writer.writerow(firstdata)\n",
    "            break\n",
    "\n",
    "    if yesno in noChoice:\n",
    "        break\n",
    "\n",
    "os.system(\"Pause\")"
   ]
  }
 ],
 "metadata": {
  "kernelspec": {
   "display_name": "Python 3",
   "language": "python",
   "name": "python3"
  },
  "language_info": {
   "codemirror_mode": {
    "name": "ipython",
    "version": 3
   },
   "file_extension": ".py",
   "mimetype": "text/x-python",
   "name": "python",
   "nbconvert_exporter": "python",
   "pygments_lexer": "ipython3",
   "version": "3.6.8"
  }
 },
 "nbformat": 4,
 "nbformat_minor": 4
}
